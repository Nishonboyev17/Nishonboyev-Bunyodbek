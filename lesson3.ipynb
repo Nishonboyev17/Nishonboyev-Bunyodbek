{
 "cells": [
  {
   "cell_type": "code",
   "execution_count": 5,
   "id": "e4768bd8",
   "metadata": {},
   "outputs": [
    {
     "name": "stdout",
     "output_type": "stream",
     "text": [
      "Third fruit: cherry\n"
     ]
    }
   ],
   "source": [
    "# 1. Create and Access List Elements\n",
    "fruits = ['apple', 'banana', 'cherry', 'orange', 'grape']\n",
    "print(\"Third fruit:\", fruits[2])"
   ]
  },
  {
   "cell_type": "code",
   "execution_count": 6,
   "id": "0e861442",
   "metadata": {},
   "outputs": [
    {
     "name": "stdout",
     "output_type": "stream",
     "text": [
      "Concatenated list: [1, 2, 3, 4, 5, 6]\n"
     ]
    }
   ],
   "source": [
    "#2. Concatenate Two Lists\n",
    "list1 = [1, 2, 3]\n",
    "list2 = [4, 5, 6]\n",
    "combined = list1 + list2\n",
    "print(\"Concatenated list:\", combined)"
   ]
  },
  {
   "cell_type": "code",
   "execution_count": 7,
   "id": "4dc2ad7c",
   "metadata": {},
   "outputs": [
    {
     "name": "stdout",
     "output_type": "stream",
     "text": [
      "Extracted elements: [10, 30, 50]\n"
     ]
    }
   ],
   "source": [
    "#3. Extract Elements from a List\n",
    "\n",
    "numbers = [10, 20, 30, 40, 50]\n",
    "first = numbers[0]\n",
    "middle = numbers[len(numbers)//2]\n",
    "last = numbers[-1]\n",
    "new_list = [first, middle, last]\n",
    "print(\"Extracted elements:\", new_list)"
   ]
  },
  {
   "cell_type": "code",
   "execution_count": 8,
   "id": "4580af21",
   "metadata": {},
   "outputs": [
    {
     "name": "stdout",
     "output_type": "stream",
     "text": [
      "Movies tuple: ('Inception', 'Interstellar', 'Matrix', 'Avatar', 'Gladiator')\n"
     ]
    }
   ],
   "source": [
    "#4. Convert List to Tuple\n",
    "movies = ['Inception', 'Interstellar', 'Matrix', 'Avatar', 'Gladiator']\n",
    "movies_tuple = tuple(movies)\n",
    "print(\"Movies tuple:\", movies_tuple)"
   ]
  },
  {
   "cell_type": "code",
   "execution_count": 9,
   "id": "4e4e8b85",
   "metadata": {},
   "outputs": [
    {
     "name": "stdout",
     "output_type": "stream",
     "text": [
      "Paris is in the list.\n"
     ]
    }
   ],
   "source": [
    "#5. Check Element in a List\n",
    "cities = ['Tashkent', 'New York', 'Paris', 'Tokyo']\n",
    "if 'Paris' in cities:\n",
    "    print(\"Paris is in the list.\")\n",
    "else:\n",
    "    print(\"Paris is not in the list.\")"
   ]
  },
  {
   "cell_type": "code",
   "execution_count": 10,
   "id": "01df3ed0",
   "metadata": {},
   "outputs": [
    {
     "name": "stdout",
     "output_type": "stream",
     "text": [
      "Duplicated list: [1, 2, 3, 1, 2, 3]\n"
     ]
    }
   ],
   "source": [
    "#6. Duplicate a List Without Using Loops\n",
    "\n",
    "nums = [1, 2, 3]\n",
    "duplicated = nums * 2\n",
    "print(\"Duplicated list:\", duplicated)"
   ]
  },
  {
   "cell_type": "code",
   "execution_count": 11,
   "id": "caa1a1ba",
   "metadata": {},
   "outputs": [
    {
     "name": "stdout",
     "output_type": "stream",
     "text": [
      "After swapping: [25, 10, 15, 20, 5]\n"
     ]
    }
   ],
   "source": [
    "#7. Swap First and Last Elements of a List\n",
    "nums = [5, 10, 15, 20, 25]\n",
    "nums[0], nums[-1] = nums[-1], nums[0]\n",
    "print(\"After swapping:\", nums)"
   ]
  },
  {
   "cell_type": "code",
   "execution_count": 12,
   "id": "0afbbfa3",
   "metadata": {},
   "outputs": [
    {
     "name": "stdout",
     "output_type": "stream",
     "text": [
      "Sliced tuple: (4, 5, 6, 7, 8)\n"
     ]
    }
   ],
   "source": [
    "#8. Slice a Tuple\n",
    "numbers = tuple(range(1, 11))\n",
    "sliced = numbers[3:8]\n",
    "print(\"Sliced tuple:\", sliced)"
   ]
  },
  {
   "cell_type": "code",
   "execution_count": 13,
   "id": "58da72a8",
   "metadata": {},
   "outputs": [
    {
     "name": "stdout",
     "output_type": "stream",
     "text": [
      "Number of times 'blue' appears: 3\n"
     ]
    }
   ],
   "source": [
    "#9.Count Occurrences in a List\n",
    "colors = ['blue', 'red', 'blue', 'green', 'blue']\n",
    "count = colors.count('blue')\n",
    "print(\"Number of times 'blue' appears:\", count)"
   ]
  },
  {
   "cell_type": "code",
   "execution_count": 14,
   "id": "b2383656",
   "metadata": {},
   "outputs": [
    {
     "name": "stdout",
     "output_type": "stream",
     "text": [
      "Index of 'lion': 2\n"
     ]
    }
   ],
   "source": [
    "#10. Find the Index of an Element in a Tuple\n",
    "animals = ('cat', 'dog', 'lion', 'tiger')\n",
    "index = animals.index('lion')\n",
    "print(\"Index of 'lion':\", index)"
   ]
  },
  {
   "cell_type": "code",
   "execution_count": 15,
   "id": "06fc3ce3",
   "metadata": {},
   "outputs": [
    {
     "name": "stdout",
     "output_type": "stream",
     "text": [
      "Merged tuple: (1, 2, 3, 4, 5, 6)\n"
     ]
    }
   ],
   "source": [
    "#11. Merge Two Tuples\n",
    "t1 = (1, 2, 3)\n",
    "t2 = (4, 5, 6)\n",
    "merged = t1 + t2\n",
    "print(\"Merged tuple:\", merged)"
   ]
  },
  {
   "cell_type": "code",
   "execution_count": 16,
   "id": "fa2cbc4a",
   "metadata": {},
   "outputs": [
    {
     "name": "stdout",
     "output_type": "stream",
     "text": [
      "Length of list: 3\n",
      "Length of tuple: 4\n"
     ]
    }
   ],
   "source": [
    "#12. Find the Length of a List and Tuple\n",
    "my_list = [10, 20, 30]\n",
    "my_tuple = (100, 200, 300, 400)\n",
    "print(\"Length of list:\", len(my_list))\n",
    "print(\"Length of tuple:\", len(my_tuple))"
   ]
  },
  {
   "cell_type": "code",
   "execution_count": 17,
   "id": "c374df3b",
   "metadata": {},
   "outputs": [
    {
     "name": "stdout",
     "output_type": "stream",
     "text": [
      "Converted list: [1, 2, 3, 4, 5]\n"
     ]
    }
   ],
   "source": [
    "#13. Convert Tuple to List\n",
    "numbers = (1, 2, 3, 4, 5)\n",
    "converted = list(numbers)\n",
    "print(\"Converted list:\", converted)"
   ]
  },
  {
   "cell_type": "code",
   "execution_count": 18,
   "id": "1b637d72",
   "metadata": {},
   "outputs": [
    {
     "name": "stdout",
     "output_type": "stream",
     "text": [
      "Max: 25\n",
      "Min: 1\n"
     ]
    }
   ],
   "source": [
    "\n",
    "#14. Find Maximum and Minimum in a Tuple\n",
    "\n",
    "nums = (10, 5, 25, 1, 8)\n",
    "print(\"Max:\", max(nums))\n",
    "print(\"Min:\", min(nums))"
   ]
  },
  {
   "cell_type": "code",
   "execution_count": 23,
   "id": "35d4af50",
   "metadata": {},
   "outputs": [
    {
     "name": "stdout",
     "output_type": "stream",
     "text": [
      "Reversed tuple: ('code', 'python', 'world', 'hello')\n"
     ]
    }
   ],
   "source": [
    "\n",
    "#15. Reverse a Tuple\n",
    "\n",
    "words = ('hello', 'world', 'python', 'code')\n",
    "reversed_tuple = words[::-1]\n",
    "print(\"Reversed tuple:\", reversed_tuple)"
   ]
  }
 ],
 "metadata": {
  "kernelspec": {
   "display_name": "Python 3",
   "language": "python",
   "name": "python3"
  },
  "language_info": {
   "codemirror_mode": {
    "name": "ipython",
    "version": 3
   },
   "file_extension": ".py",
   "mimetype": "text/x-python",
   "name": "python",
   "nbconvert_exporter": "python",
   "pygments_lexer": "ipython3",
   "version": "3.12.10"
  }
 },
 "nbformat": 4,
 "nbformat_minor": 5
}
