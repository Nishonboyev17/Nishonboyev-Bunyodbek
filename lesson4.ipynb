{
 "cells": [
  {
   "cell_type": "markdown",
   "id": "83afe3c9",
   "metadata": {},
   "source": [
    "# # Python Dictionary and Set Exercises"
   ]
  },
  {
   "cell_type": "code",
   "execution_count": 1,
   "id": "161b5f2a",
   "metadata": {},
   "outputs": [],
   "source": [
    "my_dict = {'a': 3, 'b': 1, 'c': 2}"
   ]
  },
  {
   "cell_type": "code",
   "execution_count": 2,
   "id": "6ca30531",
   "metadata": {},
   "outputs": [
    {
     "name": "stdout",
     "output_type": "stream",
     "text": [
      "Ascending: {'b': 1, 'c': 2, 'a': 3}\n"
     ]
    }
   ],
   "source": [
    "ascending = dict(sorted(my_dict.items(), key=lambda x: x[1]))\n",
    "print(\"Ascending:\", ascending)"
   ]
  },
  {
   "cell_type": "code",
   "execution_count": 3,
   "id": "8c6f8c7c",
   "metadata": {},
   "outputs": [
    {
     "name": "stdout",
     "output_type": "stream",
     "text": [
      "Descending: {'a': 3, 'c': 2, 'b': 1}\n"
     ]
    }
   ],
   "source": [
    "descending = dict(sorted(my_dict.items(), key=lambda x: x[1], reverse=True))\n",
    "print(\"Descending:\", descending)"
   ]
  },
  {
   "cell_type": "code",
   "execution_count": 5,
   "id": "4e0f5710",
   "metadata": {},
   "outputs": [
    {
     "name": "stdout",
     "output_type": "stream",
     "text": [
      "Updated Dictionary: {0: 10, 1: 20, 2: 30}\n"
     ]
    }
   ],
   "source": [
    "# 2. Add a Key to a Dictionary\n",
    "my_dict = {0: 10, 1: 20}\n",
    "my_dict[2] = 30\n",
    "print(\"Updated Dictionary:\", my_dict)"
   ]
  },
  {
   "cell_type": "code",
   "execution_count": 6,
   "id": "845c5e9b",
   "metadata": {},
   "outputs": [],
   "source": [
    "#3. Concatenate Multiple Dictionaries\n",
    "dic1 = {1: 10, 2: 20}\n",
    "dic2 = {3: 30, 4: 40}\n",
    "dic3 = {5: 50, 6: 60}"
   ]
  },
  {
   "cell_type": "code",
   "execution_count": 7,
   "id": "7ed89e29",
   "metadata": {},
   "outputs": [
    {
     "name": "stdout",
     "output_type": "stream",
     "text": [
      "Concatenated Dictionary: {1: 10, 2: 20, 3: 30, 4: 40, 5: 50, 6: 60}\n"
     ]
    }
   ],
   "source": [
    "merged = {**dic1, **dic2, **dic3}\n",
    "print(\"Concatenated Dictionary:\", merged)"
   ]
  },
  {
   "cell_type": "code",
   "execution_count": 9,
   "id": "6d9f198b",
   "metadata": {},
   "outputs": [
    {
     "name": "stdout",
     "output_type": "stream",
     "text": [
      "Squares Dictionary: {1: 1, 2: 4, 3: 9, 4: 16, 5: 25}\n"
     ]
    }
   ],
   "source": [
    "# 4. Generate a Dictionary with Squares (1 to n)\n",
    "n = 5\n",
    "squares = {}\n",
    "for x in range(1, n + 1):\n",
    "    squares[x] = x * x\n",
    "print(\"Squares Dictionary:\", squares)"
   ]
  },
  {
   "cell_type": "code",
   "execution_count": 11,
   "id": "cb98de21",
   "metadata": {},
   "outputs": [
    {
     "name": "stdout",
     "output_type": "stream",
     "text": [
      "Squares from 1 to 15: {1: 1, 2: 4, 3: 9, 4: 16, 5: 25, 6: 36, 7: 49, 8: 64, 9: 81, 10: 100, 11: 121, 12: 144, 13: 169, 14: 196, 15: 225}\n"
     ]
    }
   ],
   "source": [
    "# 5. Dictionary of Squares (1 to 15)\n",
    "squares_15 = {x: x * x for x in range(1, 16)}\n",
    "print(\"Squares from 1 to 15:\", squares_15)"
   ]
  },
  {
   "cell_type": "markdown",
   "id": "346b323f",
   "metadata": {},
   "source": [
    "## Set Exercises"
   ]
  },
  {
   "cell_type": "code",
   "execution_count": 12,
   "id": "319b955d",
   "metadata": {},
   "outputs": [
    {
     "name": "stdout",
     "output_type": "stream",
     "text": [
      "Yaratilgan set: {1, 2, 3, 4, 5}\n"
     ]
    }
   ],
   "source": [
    "# 1. Create a Set\n",
    "my_set = {1, 2, 3, 4, 5}\n",
    "print(\"Yaratilgan set:\", my_set)"
   ]
  },
  {
   "cell_type": "code",
   "execution_count": 13,
   "id": "585f346d",
   "metadata": {},
   "outputs": [
    {
     "name": "stdout",
     "output_type": "stream",
     "text": [
      "Set element: 1\n",
      "Set element: 2\n",
      "Set element: 3\n",
      "Set element: 4\n",
      "Set element: 5\n"
     ]
    }
   ],
   "source": [
    "# 2. Iterate Over a Set\n",
    "for item in my_set:\n",
    "    print(\"Set element:\", item)"
   ]
  },
  {
   "cell_type": "code",
   "execution_count": 14,
   "id": "5005a3ed",
   "metadata": {},
   "outputs": [
    {
     "name": "stdout",
     "output_type": "stream",
     "text": [
      "Yangilangan set: {1, 2, 3, 4, 5, 6, 7, 8}\n"
     ]
    }
   ],
   "source": [
    "# 3. Add Member(s) to a Set\n",
    "my_set.add(6)\n",
    "my_set.update([7, 8])\n",
    "print(\"Yangilangan set:\", my_set)"
   ]
  },
  {
   "cell_type": "code",
   "execution_count": 15,
   "id": "59a7e86a",
   "metadata": {},
   "outputs": [
    {
     "name": "stdout",
     "output_type": "stream",
     "text": [
      "3 o‘chirildi: {1, 2, 4, 5, 6, 7, 8}\n"
     ]
    }
   ],
   "source": [
    "# 4. Remove Item(s) from a Set\n",
    "my_set.remove(3)\n",
    "print(\"3 o‘chirildi:\", my_set)"
   ]
  },
  {
   "cell_type": "code",
   "execution_count": 16,
   "id": "b0b39763",
   "metadata": {},
   "outputs": [
    {
     "name": "stdout",
     "output_type": "stream",
     "text": [
      "4 setdan o‘chirildi\n"
     ]
    }
   ],
   "source": [
    "# 5. Remove an Item if Present in the Set\n",
    "item_to_remove = 4\n",
    "if item_to_remove in my_set:\n",
    "    my_set.remove(item_to_remove)\n",
    "    print(f\"{item_to_remove} setdan o‘chirildi\")\n",
    "else:\n",
    "    print(f\"{item_to_remove} setda yo‘q\")"
   ]
  }
 ],
 "metadata": {
  "kernelspec": {
   "display_name": "Python 3",
   "language": "python",
   "name": "python3"
  },
  "language_info": {
   "codemirror_mode": {
    "name": "ipython",
    "version": 3
   },
   "file_extension": ".py",
   "mimetype": "text/x-python",
   "name": "python",
   "nbconvert_exporter": "python",
   "pygments_lexer": "ipython3",
   "version": "3.12.10"
  }
 },
 "nbformat": 4,
 "nbformat_minor": 5
}
